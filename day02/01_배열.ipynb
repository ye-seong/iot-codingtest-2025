{
 "cells": [
  {
   "cell_type": "markdown",
   "id": "17abe99f",
   "metadata": {},
   "source": [
    "## 배열\n",
    "\n",
    "### 배열선언\n",
    "\n",
    "#### 일반적 배열 선언"
   ]
  },
  {
   "cell_type": "code",
   "execution_count": 2,
   "id": "e7237f63",
   "metadata": {},
   "outputs": [
    {
     "data": {
      "text/plain": [
       "[0, 0, 0, 0, 0, 0]"
      ]
     },
     "execution_count": 2,
     "metadata": {},
     "output_type": "execute_result"
    }
   ],
   "source": [
    "arr1 = [0, 0, 0, 0, 0, 0,]\n",
    "arr1"
   ]
  },
  {
   "cell_type": "code",
   "execution_count": 3,
   "id": "57143f73",
   "metadata": {},
   "outputs": [
    {
     "data": {
      "text/plain": [
       "[0, 0, 0, 0, 0, 0]"
      ]
     },
     "execution_count": 3,
     "metadata": {},
     "output_type": "execute_result"
    }
   ],
   "source": [
    "arr2 = [0] * 6\n",
    "arr2"
   ]
  },
  {
   "cell_type": "markdown",
   "id": "e2f242ba",
   "metadata": {},
   "source": [
    "#### 리스트 생성자 사용"
   ]
  },
  {
   "cell_type": "code",
   "execution_count": 7,
   "id": "38a12ef2",
   "metadata": {},
   "outputs": [
    {
     "data": {
      "text/plain": [
       "[0, 1, 2, 3, 4, 5]"
      ]
     },
     "execution_count": 7,
     "metadata": {},
     "output_type": "execute_result"
    }
   ],
   "source": [
    "arr3 = list(range(6))\n",
    "arr3"
   ]
  },
  {
   "cell_type": "markdown",
   "id": "d66b1371",
   "metadata": {},
   "source": [
    "#### 리스트 컨프리헨션 "
   ]
  },
  {
   "cell_type": "code",
   "execution_count": 5,
   "id": "d562a354",
   "metadata": {},
   "outputs": [
    {
     "data": {
      "text/plain": [
       "[0, 1, 2, 3, 4, 5]"
      ]
     },
     "execution_count": 5,
     "metadata": {},
     "output_type": "execute_result"
    }
   ],
   "source": [
    "arr4 = [x for x in range(6)]\n",
    "arr4"
   ]
  },
  {
   "cell_type": "code",
   "execution_count": 11,
   "id": "fae53198",
   "metadata": {},
   "outputs": [
    {
     "data": {
      "text/plain": [
       "[0, 0, 0, 0, 0, 0]"
      ]
     },
     "execution_count": 11,
     "metadata": {},
     "output_type": "execute_result"
    }
   ],
   "source": [
    "# 어짜피 사용하지 않는 변수라면 _(사용하지않는 변수)로 변경하라\n",
    "arr5 = [0 for _ in range(6)]\n",
    "arr5"
   ]
  },
  {
   "cell_type": "code",
   "execution_count": 14,
   "id": "ff66ef92",
   "metadata": {},
   "outputs": [
    {
     "data": {
      "text/plain": [
       "15"
      ]
     },
     "execution_count": 14,
     "metadata": {},
     "output_type": "execute_result"
    }
   ],
   "source": [
    "arr4[0] + arr4[1]  + arr4[2]  + arr4[3]  + arr4[4]  + arr4[5] "
   ]
  },
  {
   "cell_type": "markdown",
   "id": "2a740fa2",
   "metadata": {},
   "source": [
    "### 2차원 배열"
   ]
  },
  {
   "cell_type": "code",
   "execution_count": 21,
   "id": "68de4a01",
   "metadata": {},
   "outputs": [
    {
     "data": {
      "text/plain": [
       "[[1, 2, 3, 4], [5, 6, 7, 8], [9, 10, 11, 12]]"
      ]
     },
     "execution_count": 21,
     "metadata": {},
     "output_type": "execute_result"
    }
   ],
   "source": [
    "# 선언\n",
    "arr6 = [[1,2,3,4], [5,6,7,8], [9,10,11,12]]   # 전체 3x4 배열\n",
    "arr6"
   ]
  },
  {
   "cell_type": "code",
   "execution_count": 17,
   "id": "6c722e4a",
   "metadata": {},
   "outputs": [
    {
     "data": {
      "text/plain": [
       "[1, 2, 3, 4]"
      ]
     },
     "execution_count": 17,
     "metadata": {},
     "output_type": "execute_result"
    }
   ],
   "source": [
    "arr6[0]  # [1,2,3,4] 0번 행 값들 전부"
   ]
  },
  {
   "cell_type": "code",
   "execution_count": 20,
   "id": "a61214aa",
   "metadata": {},
   "outputs": [
    {
     "data": {
      "text/plain": [
       "4"
      ]
     },
     "execution_count": 20,
     "metadata": {},
     "output_type": "execute_result"
    }
   ],
   "source": [
    "arr6[0][3] # 0행 3열 값을 표시하라"
   ]
  },
  {
   "cell_type": "code",
   "execution_count": 22,
   "id": "7944da11",
   "metadata": {},
   "outputs": [],
   "source": [
    "arr6[2][3] = 19"
   ]
  },
  {
   "cell_type": "code",
   "execution_count": 23,
   "id": "7ff48327",
   "metadata": {},
   "outputs": [
    {
     "data": {
      "text/plain": [
       "[[1, 2, 3, 4], [5, 6, 7, 8], [9, 10, 11, 19]]"
      ]
     },
     "execution_count": 23,
     "metadata": {},
     "output_type": "execute_result"
    }
   ],
   "source": [
    "arr6"
   ]
  },
  {
   "cell_type": "markdown",
   "id": "b503e658",
   "metadata": {},
   "source": [
    "#### 리스트 컨프레헨션"
   ]
  },
  {
   "cell_type": "code",
   "execution_count": 31,
   "id": "eef766ce",
   "metadata": {},
   "outputs": [
    {
     "data": {
      "text/plain": [
       "[[1, 2, 3, 4], [5, 6, 7, 8], [9, 10, 11, 12]]"
      ]
     },
     "execution_count": 31,
     "metadata": {},
     "output_type": "execute_result"
    }
   ],
   "source": [
    "arr7 = [[x for x in range(1 + y * 4, 5 + y * 4)] for y in range(3)]\n",
    "arr7"
   ]
  },
  {
   "cell_type": "code",
   "execution_count": 32,
   "id": "5045d694",
   "metadata": {},
   "outputs": [
    {
     "data": {
      "text/plain": [
       "[1, 2, 3, 4]"
      ]
     },
     "execution_count": 32,
     "metadata": {},
     "output_type": "execute_result"
    }
   ],
   "source": [
    "[x for x in range(1, 5)]"
   ]
  },
  {
   "cell_type": "markdown",
   "id": "3c55abac",
   "metadata": {},
   "source": [
    "### 배열 시간복잡도\n",
    "\n",
    "- 배열 요소에 접근하는 시간복잡도 : $ O (1) $ . 소요시간이 전혀 걸리지 않음\n",
    "- 배열에 맨 처음이나 중간에 삽입하는 시간복잡도 : $ O (n) $\n",
    "- 배열에 맨 처음이나 중간에 삭제하는 시간복잡도 : $ O (n) $\n",
    "\n",
    "#### 배열 선택시 고려점\n",
    "\n",
    "- 할당할 메모리 크기 확인. 1차원 배열 최대 1000만개, 2차원 배열 최대 3000 * 3000 (900만개)\n",
    "- 중간에 데이터 삽입이 많으면 시간복잡도가 높아짐"
   ]
  },
  {
   "cell_type": "markdown",
   "id": "710359ee",
   "metadata": {},
   "source": [
    "### 자주 사용하는 리스트 문법\n",
    "\n",
    "#### append() 사용"
   ]
  },
  {
   "cell_type": "code",
   "execution_count": 34,
   "id": "74f785ba",
   "metadata": {},
   "outputs": [],
   "source": [
    "my_list = [1,2,3]\n",
    "my_list.append(4)"
   ]
  },
  {
   "cell_type": "code",
   "execution_count": 37,
   "id": "b52c4784",
   "metadata": {},
   "outputs": [
    {
     "data": {
      "text/plain": [
       "[1, 2, 3, 4]"
      ]
     },
     "execution_count": 37,
     "metadata": {},
     "output_type": "execute_result"
    }
   ],
   "source": [
    "my_list"
   ]
  },
  {
   "cell_type": "markdown",
   "id": "4ec2a03c",
   "metadata": {},
   "source": [
    "#### + 연산자 사용"
   ]
  },
  {
   "cell_type": "code",
   "execution_count": 38,
   "id": "166b2063",
   "metadata": {},
   "outputs": [
    {
     "data": {
      "text/plain": [
       "[1, 2, 3, 4, 5, 6]"
      ]
     },
     "execution_count": 38,
     "metadata": {},
     "output_type": "execute_result"
    }
   ],
   "source": [
    "my_list = my_list + [5,6]\n",
    "my_list"
   ]
  },
  {
   "cell_type": "markdown",
   "id": "3630c469",
   "metadata": {},
   "source": [
    "#### insert() 함수 사용"
   ]
  },
  {
   "cell_type": "code",
   "execution_count": 39,
   "id": "f7c40dd0",
   "metadata": {},
   "outputs": [
    {
     "data": {
      "text/plain": [
       "[1, 2, 3, 999, 4, 5, 6]"
      ]
     },
     "execution_count": 39,
     "metadata": {},
     "output_type": "execute_result"
    }
   ],
   "source": [
    "my_list.insert(3, 999)\n",
    "my_list"
   ]
  },
  {
   "cell_type": "markdown",
   "id": "4b801980",
   "metadata": {},
   "source": [
    "#### pop() 함수로 데이터 추출"
   ]
  },
  {
   "cell_type": "code",
   "execution_count": 40,
   "id": "d5089572",
   "metadata": {},
   "outputs": [
    {
     "data": {
      "text/plain": [
       "6"
      ]
     },
     "execution_count": 40,
     "metadata": {},
     "output_type": "execute_result"
    }
   ],
   "source": [
    "my_list.pop()"
   ]
  },
  {
   "cell_type": "code",
   "execution_count": 41,
   "id": "778de2b9",
   "metadata": {},
   "outputs": [
    {
     "data": {
      "text/plain": [
       "[1, 2, 3, 999, 4, 5]"
      ]
     },
     "execution_count": 41,
     "metadata": {},
     "output_type": "execute_result"
    }
   ],
   "source": [
    "my_list"
   ]
  },
  {
   "cell_type": "code",
   "execution_count": 42,
   "id": "9bb1efc6",
   "metadata": {},
   "outputs": [
    {
     "data": {
      "text/plain": [
       "999"
      ]
     },
     "execution_count": 42,
     "metadata": {},
     "output_type": "execute_result"
    }
   ],
   "source": [
    "my_list.pop(3)"
   ]
  },
  {
   "cell_type": "code",
   "execution_count": 44,
   "id": "42880d54",
   "metadata": {},
   "outputs": [
    {
     "data": {
      "text/plain": [
       "[1, 2, 3, 4, 5]"
      ]
     },
     "execution_count": 44,
     "metadata": {},
     "output_type": "execute_result"
    }
   ],
   "source": [
    "my_list"
   ]
  },
  {
   "cell_type": "markdown",
   "id": "ca5bd22b",
   "metadata": {},
   "source": [
    "#### remove() 로 데이터 삭제. 값으로 삭제"
   ]
  },
  {
   "cell_type": "code",
   "execution_count": 47,
   "id": "e6802681",
   "metadata": {},
   "outputs": [
    {
     "ename": "ValueError",
     "evalue": "list.remove(x): x not in list",
     "output_type": "error",
     "traceback": [
      "\u001b[1;31m---------------------------------------------------------------------------\u001b[0m",
      "\u001b[1;31mValueError\u001b[0m                                Traceback (most recent call last)",
      "Cell \u001b[1;32mIn[47], line 1\u001b[0m\n\u001b[1;32m----> 1\u001b[0m \u001b[43mmy_list\u001b[49m\u001b[38;5;241;43m.\u001b[39;49m\u001b[43mremove\u001b[49m\u001b[43m(\u001b[49m\u001b[38;5;241;43m3\u001b[39;49m\u001b[43m)\u001b[49m \u001b[38;5;66;03m# 리스트에서 3을 지워\u001b[39;00m\n",
      "\u001b[1;31mValueError\u001b[0m: list.remove(x): x not in list"
     ]
    }
   ],
   "source": [
    "my_list.remove(3) # 리스트에서 3을 지워"
   ]
  },
  {
   "cell_type": "code",
   "execution_count": 46,
   "id": "1ec8428a",
   "metadata": {},
   "outputs": [
    {
     "data": {
      "text/plain": [
       "[1, 2, 4, 5]"
      ]
     },
     "execution_count": 46,
     "metadata": {},
     "output_type": "execute_result"
    }
   ],
   "source": [
    "my_list"
   ]
  },
  {
   "cell_type": "markdown",
   "id": "3383ba01",
   "metadata": {},
   "source": [
    "#### 많이 사용하는 문법"
   ]
  },
  {
   "cell_type": "code",
   "execution_count": 49,
   "id": "dc60b39b",
   "metadata": {},
   "outputs": [],
   "source": [
    "fruits = ['apple', 'banana', 'cherry', 'apple', 'orange', 'banana', 'kiwi']"
   ]
  },
  {
   "cell_type": "code",
   "execution_count": 50,
   "id": "58b0235e",
   "metadata": {},
   "outputs": [
    {
     "data": {
      "text/plain": [
       "7"
      ]
     },
     "execution_count": 50,
     "metadata": {},
     "output_type": "execute_result"
    }
   ],
   "source": [
    "len(fruits)"
   ]
  },
  {
   "cell_type": "code",
   "execution_count": 51,
   "id": "9d93ed7a",
   "metadata": {},
   "outputs": [
    {
     "data": {
      "text/plain": [
       "1"
      ]
     },
     "execution_count": 51,
     "metadata": {},
     "output_type": "execute_result"
    }
   ],
   "source": [
    "fruits.index('banana')"
   ]
  },
  {
   "cell_type": "code",
   "execution_count": 52,
   "id": "63f63f53",
   "metadata": {},
   "outputs": [
    {
     "data": {
      "text/plain": [
       "5"
      ]
     },
     "execution_count": 52,
     "metadata": {},
     "output_type": "execute_result"
    }
   ],
   "source": [
    "fruits.index('banana', 2)"
   ]
  },
  {
   "cell_type": "code",
   "execution_count": 53,
   "id": "d818c23e",
   "metadata": {},
   "outputs": [
    {
     "ename": "ValueError",
     "evalue": "'banana' is not in list",
     "output_type": "error",
     "traceback": [
      "\u001b[1;31m---------------------------------------------------------------------------\u001b[0m",
      "\u001b[1;31mValueError\u001b[0m                                Traceback (most recent call last)",
      "Cell \u001b[1;32mIn[53], line 1\u001b[0m\n\u001b[1;32m----> 1\u001b[0m \u001b[43mfruits\u001b[49m\u001b[38;5;241;43m.\u001b[39;49m\u001b[43mindex\u001b[49m\u001b[43m(\u001b[49m\u001b[38;5;124;43m'\u001b[39;49m\u001b[38;5;124;43mbanana\u001b[39;49m\u001b[38;5;124;43m'\u001b[39;49m\u001b[43m,\u001b[49m\u001b[43m \u001b[49m\u001b[38;5;241;43m6\u001b[39;49m\u001b[43m)\u001b[49m\n",
      "\u001b[1;31mValueError\u001b[0m: 'banana' is not in list"
     ]
    }
   ],
   "source": [
    "fruits.index('banana', 6)"
   ]
  },
  {
   "cell_type": "code",
   "execution_count": 54,
   "id": "4cbe194a",
   "metadata": {},
   "outputs": [],
   "source": [
    "fruits.sort()"
   ]
  },
  {
   "cell_type": "code",
   "execution_count": 55,
   "id": "5ff0f115",
   "metadata": {},
   "outputs": [
    {
     "data": {
      "text/plain": [
       "['apple', 'apple', 'banana', 'banana', 'cherry', 'kiwi', 'orange']"
      ]
     },
     "execution_count": 55,
     "metadata": {},
     "output_type": "execute_result"
    }
   ],
   "source": [
    "fruits"
   ]
  },
  {
   "cell_type": "code",
   "execution_count": 56,
   "id": "163ab20c",
   "metadata": {},
   "outputs": [],
   "source": [
    "fruits.sort(reverse=True)"
   ]
  },
  {
   "cell_type": "code",
   "execution_count": 57,
   "id": "5be94873",
   "metadata": {},
   "outputs": [
    {
     "data": {
      "text/plain": [
       "['orange', 'kiwi', 'cherry', 'banana', 'banana', 'apple', 'apple']"
      ]
     },
     "execution_count": 57,
     "metadata": {},
     "output_type": "execute_result"
    }
   ],
   "source": [
    "fruits"
   ]
  },
  {
   "cell_type": "code",
   "execution_count": 60,
   "id": "c1911136",
   "metadata": {},
   "outputs": [
    {
     "data": {
      "text/plain": [
       "0"
      ]
     },
     "execution_count": 60,
     "metadata": {},
     "output_type": "execute_result"
    }
   ],
   "source": [
    "fruits.count('mango')"
   ]
  },
  {
   "cell_type": "markdown",
   "id": "0de160e0",
   "metadata": {},
   "source": [
    "### 몸풀기 문제"
   ]
  },
  {
   "cell_type": "markdown",
   "id": "011f7b86",
   "metadata": {},
   "source": [
    "#### 배열 정렬하기\n",
    "\n",
    "|입력|출력|\n",
    "|:--|:--|\n",
    "|[1,-5,2,4,3]|[-5,1,2,3,4]|\n",
    "|[2,1,1,3,2,5,4]|[1, 1, 2, 2, 3, 4, 5]|\n",
    "|[6,1,7]|[1, 6, 7] |"
   ]
  },
  {
   "cell_type": "code",
   "execution_count": null,
   "id": "27ead614",
   "metadata": {},
   "outputs": [],
   "source": [
    "def solution(arr):\n",
    "    answer = []\n",
    "    return answer"
   ]
  },
  {
   "cell_type": "code",
   "execution_count": 65,
   "id": "663b35d7",
   "metadata": {},
   "outputs": [],
   "source": [
    "# 기본 정렬\n",
    "def solution(arr):\n",
    "    arr.sort()\n",
    "    return arr"
   ]
  },
  {
   "cell_type": "code",
   "execution_count": 68,
   "id": "a11eda18",
   "metadata": {},
   "outputs": [
    {
     "data": {
      "text/plain": [
       "[1, 1, 2, 2, 3, 4, 5]"
      ]
     },
     "execution_count": 68,
     "metadata": {},
     "output_type": "execute_result"
    }
   ],
   "source": [
    "#arr1 = [1,-5,2,4,3]\n",
    "arr1 = [2,1,1,3,2,5,4]\n",
    "# arr1 = [6,1,7]\n",
    "\n",
    "solution(arr1)"
   ]
  },
  {
   "cell_type": "code",
   "execution_count": 66,
   "id": "e983cd4e",
   "metadata": {},
   "outputs": [],
   "source": [
    "# 원본은 보존하면서 작업\n",
    "def solution(arr):\n",
    "    answer = sorted(arr, reverse=False)\n",
    "    return answer"
   ]
  },
  {
   "cell_type": "markdown",
   "id": "114e6add",
   "metadata": {},
   "source": [
    "#### sort() 함수 사용않고 정렬알고리즘 구현\n",
    "- $ O (n^2) $ 시간복잡도"
   ]
  },
  {
   "cell_type": "code",
   "execution_count": 85,
   "id": "a225b108",
   "metadata": {},
   "outputs": [],
   "source": [
    "import time\n",
    "\n",
    "def bubble_sort(arr):   # 버블소트\n",
    "    n = len(arr)\n",
    "\n",
    "    for i in range(n):\n",
    "        for j in range(n - i - 1):  # 한번돌고나면 맨처음 요소는 뛰어넘고 정렬 계속\n",
    "            if arr[j] > arr[j + 1]:\n",
    "                arr[j], arr[j + 1] = arr[j + 1], arr[j]  # 파이썬에서 temp를 만들지 않고 swap가능한 방법\n",
    "\n",
    "    return arr\n",
    "\n",
    "def do_sort(arr):  # sort() 사용\n",
    "    arr.sort()\n",
    "    return arr\n",
    "\n",
    "def measure_time(func, arr):   # 시간측정 함수\n",
    "    start_time = time.time()    # 시작시간 저장\n",
    "    result = func(arr)  # 함수실행\n",
    "    end_time = time.time()      # 함수 종료시간 저장\n",
    "\n",
    "    return (end_time - start_time, result)\n",
    "\n",
    "arr = list(range(10000))"
   ]
  },
  {
   "cell_type": "code",
   "execution_count": 80,
   "id": "668ac209",
   "metadata": {},
   "outputs": [],
   "source": [
    "arr.sort(reverse=True)"
   ]
  },
  {
   "cell_type": "markdown",
   "id": "01ef0bc2",
   "metadata": {},
   "source": [
    "##### 버블소트 시간측정"
   ]
  },
  {
   "cell_type": "code",
   "execution_count": 86,
   "id": "6538ec79",
   "metadata": {},
   "outputs": [],
   "source": [
    "(bubble_time, bubble_result) = measure_time(bubble_sort, arr)"
   ]
  },
  {
   "cell_type": "code",
   "execution_count": 83,
   "id": "3b1834b2",
   "metadata": {},
   "outputs": [
    {
     "data": {
      "text/plain": [
       "10000"
      ]
     },
     "execution_count": 83,
     "metadata": {},
     "output_type": "execute_result"
    }
   ],
   "source": [
    "len(bubble_result)"
   ]
  },
  {
   "cell_type": "code",
   "execution_count": 84,
   "id": "89fb6b4d",
   "metadata": {},
   "outputs": [
    {
     "data": {
      "text/plain": [
       "'버블소트 실행 시간 : 3.6535511017'"
      ]
     },
     "execution_count": 84,
     "metadata": {},
     "output_type": "execute_result"
    }
   ],
   "source": [
    "f'버블소트 실행 시간 : {bubble_time:.10f}'"
   ]
  },
  {
   "cell_type": "markdown",
   "id": "ef017275",
   "metadata": {},
   "source": [
    "- 1~9999까지 정렬된 상태에서 버블소트 실행 1.6초 정도 소요\n",
    "- 내림차순으로 역정렬된 상태에서 버블소트 실행 3.65초 정도 소요"
   ]
  },
  {
   "cell_type": "markdown",
   "id": "663558d2",
   "metadata": {},
   "source": [
    "##### 내장 소트 시간측정"
   ]
  },
  {
   "cell_type": "code",
   "execution_count": 91,
   "id": "82ffe632",
   "metadata": {},
   "outputs": [],
   "source": [
    "arr = list(range(10000))\n",
    "arr.sort(reverse=True)"
   ]
  },
  {
   "cell_type": "code",
   "execution_count": 93,
   "id": "f053708d",
   "metadata": {},
   "outputs": [],
   "source": [
    "sort_time, sort_result = measure_time(do_sort, arr)"
   ]
  },
  {
   "cell_type": "code",
   "execution_count": 100,
   "id": "ac6e0587",
   "metadata": {},
   "outputs": [
    {
     "data": {
      "text/plain": [
       "'내장소트 실행 시간 : 0.0000000000000000000000000000000000000000000000000000000000000000000000'"
      ]
     },
     "execution_count": 100,
     "metadata": {},
     "output_type": "execute_result"
    }
   ],
   "source": [
    "f'내장소트 실행 시간 : {sort_time:.70f}'"
   ]
  },
  {
   "cell_type": "markdown",
   "id": "66737ed8",
   "metadata": {},
   "source": [
    "### 모의 테스트\n",
    "\n",
    "- 공부할때 사용하는 방법 VS Code. 실제 코테 환경에서는 불가능. 프로그래머스에서 바로 구현(디버깅 불가, 코드어시스턴스 사용불가)"
   ]
  },
  {
   "cell_type": "markdown",
   "id": "f9129e44",
   "metadata": {},
   "source": [
    "#### 두 개 뽑아서 더하기\n",
    "- https://school.programmers.co.kr/learn/courses/30/lessons/68644"
   ]
  },
  {
   "cell_type": "code",
   "execution_count": 101,
   "id": "f16f36b9",
   "metadata": {},
   "outputs": [],
   "source": [
    "data = [5,0,2,7]"
   ]
  },
  {
   "cell_type": "code",
   "execution_count": null,
   "id": "ccdc795c",
   "metadata": {},
   "outputs": [],
   "source": [
    "def solution(numbers):\n",
    "    answer = []   # 빈 배열이 미리 생성\n",
    "    # 두 수를 선택해서 모든 경우의 수를 반복문으로 구함    \n",
    "    for i in range(len(numbers)):\n",
    "        for j in range(i+1, len(numbers)):\n",
    "            # i인덱스와 j인덱스의 값을 더해서 answer에 저장\n",
    "            answer.append(numbers[i] + numbers[j])\n",
    "    \n",
    "    # 중복값 제거\n",
    "    answer = sorted(set(answer))\n",
    "\n",
    "    return answer"
   ]
  },
  {
   "cell_type": "code",
   "execution_count": 114,
   "id": "1d0e63ff",
   "metadata": {},
   "outputs": [
    {
     "data": {
      "text/plain": [
       "[2, 3, 4, 5, 6, 7]"
      ]
     },
     "execution_count": 114,
     "metadata": {},
     "output_type": "execute_result"
    }
   ],
   "source": [
    "solution([2,1,3,4,1])"
   ]
  },
  {
   "cell_type": "markdown",
   "id": "bb263afe",
   "metadata": {},
   "source": [
    "#### 방문 길이\n",
    "\n",
    "- https://school.programmers.co.kr/learn/courses/30/lessons/49994"
   ]
  },
  {
   "cell_type": "code",
   "execution_count": null,
   "id": "e4c64473",
   "metadata": {},
   "outputs": [],
   "source": [
    "# 'ULURRDLLU'\n",
    "# 'LULLLLLLU'"
   ]
  },
  {
   "cell_type": "code",
   "execution_count": 137,
   "id": "5db6a416",
   "metadata": {},
   "outputs": [],
   "source": [
    "# 좌표가 맵을 벗어나지 않았는지 확인\n",
    "def is_okay_in_map(nx, ny): \n",
    "    # Python 1.0 부터의 기능 \n",
    "    # chaining 문법 0 <= x < 11\n",
    "    return 0 <= nx < 11 and 0 <= ny < 11  # 0 ~ 10 사이의 값이 아니면 False\n",
    "\n",
    "# dir : U, D, L, R \n",
    "# 좌표이동 함수\n",
    "def move_position(dir, x, y):\n",
    "    if dir.upper() == 'U': # UP\n",
    "        nx, ny = x, y + 1\n",
    "    elif dir.upper() == 'D': # DOWN\n",
    "        nx, ny = x, y - 1\n",
    "    elif dir.upper() == 'L': # LEFT\n",
    "        nx, ny = x - 1, y\n",
    "    elif dir.upper() == 'R': # RIGHT\n",
    "        nx, ny = x + 1, y\n",
    "\n",
    "    return nx, ny\n",
    "\n",
    "def solution(dirs):\n",
    "    x, y = 5, 5  # 시작위치 5, 5\n",
    "    answer = set()    # 중복좌표를 제거위해\n",
    "\n",
    "    for dir in dirs:  # LULLLLLLU \n",
    "        nx, ny = move_position(dir, x, y)   # nx, ny 바뀔 좌표\n",
    "        if is_okay_in_map(nx, ny): # 좌표값이 맵안에 있으며\n",
    "            answer.add((x, y, nx, ny))  # x,y에서 nx,ny로 이동한것과\n",
    "            answer.add((nx, ny, x, y))  # nx,ny에서 x,y로 이동한것은 같은 경로\n",
    "            x, y = nx, ny   # 변경된 좌표로 업데이트\n",
    "            #    print(answer) \n",
    "        else:\n",
    "            continue\n",
    "\n",
    "    return int(len(answer) / 2)"
   ]
  },
  {
   "cell_type": "code",
   "execution_count": 138,
   "id": "968b5e8c",
   "metadata": {},
   "outputs": [
    {
     "data": {
      "text/plain": [
       "7"
      ]
     },
     "execution_count": 138,
     "metadata": {},
     "output_type": "execute_result"
    }
   ],
   "source": [
    "solution('LULLLLLLU')"
   ]
  }
 ],
 "metadata": {
  "kernelspec": {
   "display_name": "3.11.9",
   "language": "python",
   "name": "python3"
  },
  "language_info": {
   "codemirror_mode": {
    "name": "ipython",
    "version": 3
   },
   "file_extension": ".py",
   "mimetype": "text/x-python",
   "name": "python",
   "nbconvert_exporter": "python",
   "pygments_lexer": "ipython3",
   "version": "3.11.9"
  }
 },
 "nbformat": 4,
 "nbformat_minor": 5
}
