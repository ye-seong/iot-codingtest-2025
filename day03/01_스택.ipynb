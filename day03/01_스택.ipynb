{
 "cells": [
  {
   "cell_type": "markdown",
   "id": "afe33687",
   "metadata": {},
   "source": [
    "## 스택\n",
    "\n",
    "### 개념\n",
    "\n",
    "#### ADT\n",
    "- `boolean isFull()` : 스택이 가득 찼는지 확인. True면 더이상 삽입 불가\n",
    "- `boelean isEmpty()` : 스택이 비어있는지 확인. True면 추출 불가\n",
    "- `void push(item)` : 스택에 데이터 푸시. isFull() True면 처리 불가\n",
    "- `item pop()` : 스택에서 최근 푸시한 데이터 팝. isEmpty() True면 처리 불가\n",
    "- `int top` : 스택에 최근 푸시한 데이터 위치(높이)\n",
    "- `item data[maxsize]` : 데이터를 관리하는 리스트"
   ]
  },
  {
   "cell_type": "markdown",
   "id": "e035cde6",
   "metadata": {},
   "source": [
    "```shell\n",
    "pip install stack\n",
    "```\n",
    "\n",
    "```python\n",
    "from stack import Stack\n",
    "```"
   ]
  },
  {
   "cell_type": "code",
   "execution_count": 3,
   "id": "575a636b",
   "metadata": {},
   "outputs": [],
   "source": [
    "# 구현\n",
    "stack = []\n",
    "max_size = 4   # 데이터 10개만 저장\n",
    "\n",
    "# 스택이 꽉 찾는지 확인\n",
    "def isFull(stack):\n",
    "    return len(stack) == max_size\n",
    "\n",
    "# 스택이 비었는지 확인\n",
    "def isEmpty(stack):\n",
    "    return len(stack) == 0\n",
    "\n",
    "# Push\n",
    "def push(stack, item):\n",
    "    if isFull(stack):\n",
    "        print(\"스택이 가득찼습니다!\")\n",
    "    else:\n",
    "        stack.append(item)\n",
    "        print(\"스택에 데이터 추가\")\n",
    "\n",
    "# Pop\n",
    "def pop(stack):\n",
    "    if isEmpty(stack):\n",
    "        print(\"스택이 비어있습니다!\")\n",
    "        return None\n",
    "    else:\n",
    "        return stack.pop()"
   ]
  },
  {
   "cell_type": "code",
   "execution_count": 4,
   "id": "547cfcba",
   "metadata": {},
   "outputs": [
    {
     "name": "stdout",
     "output_type": "stream",
     "text": [
      "스택에 데이터 추가\n"
     ]
    }
   ],
   "source": [
    "mystack = []\n",
    "\n",
    "push(mystack, 2)\n"
   ]
  },
  {
   "cell_type": "code",
   "execution_count": 5,
   "id": "24ba0cf5",
   "metadata": {},
   "outputs": [
    {
     "name": "stdout",
     "output_type": "stream",
     "text": [
      "스택에 데이터 추가\n",
      "스택에 데이터 추가\n"
     ]
    }
   ],
   "source": [
    "push(mystack, 5)\n",
    "push(mystack, 12)"
   ]
  },
  {
   "cell_type": "code",
   "execution_count": 7,
   "id": "1f926602",
   "metadata": {},
   "outputs": [
    {
     "name": "stdout",
     "output_type": "stream",
     "text": [
      "스택에 데이터 추가\n"
     ]
    }
   ],
   "source": [
    "push(mystack, 7)"
   ]
  },
  {
   "cell_type": "code",
   "execution_count": 9,
   "id": "11834316",
   "metadata": {},
   "outputs": [
    {
     "data": {
      "text/plain": [
       "[2, 5, 12, 7]"
      ]
     },
     "execution_count": 9,
     "metadata": {},
     "output_type": "execute_result"
    }
   ],
   "source": [
    "mystack"
   ]
  },
  {
   "cell_type": "code",
   "execution_count": 10,
   "id": "29f34e90",
   "metadata": {},
   "outputs": [
    {
     "name": "stdout",
     "output_type": "stream",
     "text": [
      "스택이 가득찼습니다!\n"
     ]
    }
   ],
   "source": [
    "push(mystack, 2)"
   ]
  },
  {
   "cell_type": "code",
   "execution_count": 11,
   "id": "99509f26",
   "metadata": {},
   "outputs": [
    {
     "data": {
      "text/plain": [
       "7"
      ]
     },
     "execution_count": 11,
     "metadata": {},
     "output_type": "execute_result"
    }
   ],
   "source": [
    "pop(mystack)"
   ]
  },
  {
   "cell_type": "code",
   "execution_count": 12,
   "id": "5ed94348",
   "metadata": {},
   "outputs": [
    {
     "data": {
      "text/plain": [
       "[2, 5, 12]"
      ]
     },
     "execution_count": 12,
     "metadata": {},
     "output_type": "execute_result"
    }
   ],
   "source": [
    "mystack"
   ]
  },
  {
   "cell_type": "markdown",
   "id": "3280353d",
   "metadata": {},
   "source": [
    "### 몸풀기 문제\n",
    "\n",
    "#### 괄호 짝 맞추기\n",
    "- https://school.programmers.co.kr/learn/courses/30/lessons/12909"
   ]
  },
  {
   "cell_type": "code",
   "execution_count": null,
   "id": "3b5a5054",
   "metadata": {},
   "outputs": [],
   "source": [
    "def solution(s):\n",
    "    stack = [] # 리스트를 스택대신, append(), pop() 사용\n",
    "\n",
    "    for c in s: # 문자열 s를 받아서 단어 c 하나씩 반복\n",
    "        if c == '(':  # 여는 괄호면\n",
    "            stack.append(c)\n",
    "        elif c == ')':  # 닫는 괄호일때\n",
    "            if not stack:   # 스택에 여는 괄호가 없으면 에러!\n",
    "                return False   \n",
    "            else:\n",
    "                stack.pop() # 들어있는 (를 빼냄\n",
    "    \n",
    "    if stack:\n",
    "        return False  # 반복이 끝났는데 스택에 뭔가 남아있으면 에러!\n",
    "    else:   \n",
    "        return True"
   ]
  },
  {
   "cell_type": "code",
   "execution_count": 2,
   "id": "3251efa4",
   "metadata": {},
   "outputs": [
    {
     "data": {
      "text/plain": [
       "True"
      ]
     },
     "execution_count": 2,
     "metadata": {},
     "output_type": "execute_result"
    }
   ],
   "source": [
    "solution('(())()')"
   ]
  },
  {
   "cell_type": "code",
   "execution_count": 3,
   "id": "1858187c",
   "metadata": {},
   "outputs": [
    {
     "data": {
      "text/plain": [
       "False"
      ]
     },
     "execution_count": 3,
     "metadata": {},
     "output_type": "execute_result"
    }
   ],
   "source": [
    "solution(')()()')"
   ]
  },
  {
   "cell_type": "code",
   "execution_count": 4,
   "id": "b404c4df",
   "metadata": {},
   "outputs": [
    {
     "data": {
      "text/plain": [
       "False"
      ]
     },
     "execution_count": 4,
     "metadata": {},
     "output_type": "execute_result"
    }
   ],
   "source": [
    "solution('((())()')"
   ]
  },
  {
   "cell_type": "code",
   "execution_count": 5,
   "id": "39c5b362",
   "metadata": {},
   "outputs": [
    {
     "data": {
      "text/plain": [
       "True"
      ]
     },
     "execution_count": 5,
     "metadata": {},
     "output_type": "execute_result"
    }
   ],
   "source": [
    "solution('((())())')"
   ]
  },
  {
   "cell_type": "markdown",
   "id": "afc5929d",
   "metadata": {},
   "source": [
    "#### 10진수를 2진수로 변환하기"
   ]
  },
  {
   "cell_type": "code",
   "execution_count": 6,
   "id": "40be1d3e",
   "metadata": {},
   "outputs": [
    {
     "data": {
      "text/plain": [
       "'0b10000000000'"
      ]
     },
     "execution_count": 6,
     "metadata": {},
     "output_type": "execute_result"
    }
   ],
   "source": [
    "bin(1024)"
   ]
  },
  {
   "cell_type": "code",
   "execution_count": 7,
   "id": "277ddbca",
   "metadata": {},
   "outputs": [],
   "source": [
    "def solution(decimal):\n",
    "    stack = []\n",
    "\n",
    "    while decimal > 0:\n",
    "        remainder = decimal % 2 # 2로 나누어서 나머지를 구함\n",
    "        stack.append(str(remainder))  # 남은 나머지를 스택에 추가\n",
    "        decimal //= 2   # 10진수를 정수 2로 나누어서 수를 조정\n",
    "    \n",
    "    answer = \"\"\n",
    "    while stack:\n",
    "        answer += stack.pop()\n",
    "\n",
    "    return answer"
   ]
  },
  {
   "cell_type": "code",
   "execution_count": 8,
   "id": "ebff570c",
   "metadata": {},
   "outputs": [
    {
     "data": {
      "text/plain": [
       "'10000000000'"
      ]
     },
     "execution_count": 8,
     "metadata": {},
     "output_type": "execute_result"
    }
   ],
   "source": [
    "solution(1024)"
   ]
  },
  {
   "cell_type": "code",
   "execution_count": 14,
   "id": "ada32f74",
   "metadata": {},
   "outputs": [
    {
     "data": {
      "text/plain": [
       "'1010'"
      ]
     },
     "execution_count": 14,
     "metadata": {},
     "output_type": "execute_result"
    }
   ],
   "source": [
    "solution(10)"
   ]
  },
  {
   "cell_type": "code",
   "execution_count": 15,
   "id": "49f4287e",
   "metadata": {},
   "outputs": [
    {
     "data": {
      "text/plain": [
       "'11011'"
      ]
     },
     "execution_count": 15,
     "metadata": {},
     "output_type": "execute_result"
    }
   ],
   "source": [
    "solution(27)"
   ]
  },
  {
   "cell_type": "code",
   "execution_count": 13,
   "id": "14652462",
   "metadata": {},
   "outputs": [
    {
     "data": {
      "text/plain": [
       "'11000000111001'"
      ]
     },
     "execution_count": 13,
     "metadata": {},
     "output_type": "execute_result"
    }
   ],
   "source": [
    "solution(12345)"
   ]
  },
  {
   "cell_type": "markdown",
   "id": "7d645188",
   "metadata": {},
   "source": [
    "### 모의 테스트\n",
    "\n",
    "#### 표 편집\n",
    "- https://school.programmers.co.kr/learn/courses/30/lessons/81303"
   ]
  },
  {
   "cell_type": "code",
   "execution_count": 45,
   "id": "323ca768",
   "metadata": {},
   "outputs": [],
   "source": [
    "def solution(n, k, cmd):\n",
    "    answer = ''  # 삭제 후 결과를 담을 변수\n",
    "    deleted = []  # 삭제된 행의 인덱스를 담을 변수(복구할 값)\n",
    "\n",
    "    # 각 행의 위의 인덱스를 저장하는 리스트\n",
    "    # 가상공간을 더 만들어서 처리\n",
    "    # 아래의 가상환경이 조금 문제가 있음. 크게 중요치는 않음\n",
    "    up = [i - 1 for i in range(n + 2)]\n",
    "    print(up)\n",
    "    down = [i + 1 for i in range(n + 1)]\n",
    "    print(down)\n",
    "\n",
    "    # 현재위치 인덱스(가상공간을 만들었기 때문에)\n",
    "    k += 1\n",
    "\n",
    "    # 주어진 cmd 리스트에서 요소별로 커맨드 처리\n",
    "    for cmd_i in cmd:\n",
    "        # print(cmd_i)\n",
    "        # 각 커맨드 별로 처리\n",
    "        if cmd_i.startswith('C'):  # 삭제처리\n",
    "            print('삭제처리!')\n",
    "            deleted.append(k)  # 현재 행을 삭제, 스택에 추가하는 것은 간단\n",
    "            up[down[k]] = up[k]  # !! 삭제되는 아래의 요소가 가리키는 상위인덱스가 삭제되는 요소가 가리키던 상위인덱스로 치환\n",
    "            down[up[k]] = down[k] # !! 삭제되는 위의 요소가 가리키는 하위인덱스가 삭제되는 요소가 가리키던 하위인덱스로 치환\n",
    "            k = up[k] if n < down[k] else down[k] # 삭제되는 행이 마지막행이라서 아래를 선택할 수 없으므로 삭제되는 행의 위의 값으로 대체\n",
    "\n",
    "        elif cmd_i.startswith('Z'):   # 복구\n",
    "            print('복구처리!')\n",
    "            restore = deleted.pop()\n",
    "            down[up[restore]] = restore\n",
    "            up[down[restore]] = restore\n",
    "\n",
    "        else:  # U D는 값이 두개씩\n",
    "            action, num = cmd_i.split(' ')\n",
    "            if action == 'U':   # 위로\n",
    "                print(f'위로 {int(num)} 이동')\n",
    "                for _ in range(int(num)):\n",
    "                    k = up[k]  # 현재행 인덱스k 가 값이 -1씩 변경\n",
    "            elif action == 'D':   # 아래로\n",
    "                print(f'아래로 {int(num)} 이동')\n",
    "                for _ in range(int(num)):\n",
    "                    k = down[k]\n",
    "\n",
    "    print(deleted)\n",
    "    # 삭제된 인덱스를 전체에서 표현\n",
    "    answer = ['O'] * n\n",
    "    for i in deleted:\n",
    "        answer[i - 1] = 'X'\n",
    "    return ''.join(answer)"
   ]
  },
  {
   "cell_type": "code",
   "execution_count": 46,
   "id": "9af54ecb",
   "metadata": {},
   "outputs": [
    {
     "name": "stdout",
     "output_type": "stream",
     "text": [
      "[-1, 0, 1, 2, 3, 4, 5, 6, 7, 8]\n",
      "[1, 2, 3, 4, 5, 6, 7, 8, 9]\n",
      "아래로 2 이동\n",
      "삭제처리!\n",
      "위로 3 이동\n",
      "삭제처리!\n",
      "아래로 4 이동\n",
      "삭제처리!\n",
      "위로 2 이동\n",
      "복구처리!\n",
      "복구처리!\n",
      "[5]\n"
     ]
    },
    {
     "data": {
      "text/plain": [
       "'OOOOXOOO'"
      ]
     },
     "execution_count": 46,
     "metadata": {},
     "output_type": "execute_result"
    }
   ],
   "source": [
    "solution(8, 2, [\"D 2\",\"C\",\"U 3\",\"C\",\"D 4\",\"C\",\"U 2\",\"Z\",\"Z\"])"
   ]
  },
  {
   "cell_type": "code",
   "execution_count": 47,
   "id": "f1bdae06",
   "metadata": {},
   "outputs": [
    {
     "name": "stdout",
     "output_type": "stream",
     "text": [
      "[-1, 0, 1, 2, 3, 4, 5, 6, 7, 8]\n",
      "[1, 2, 3, 4, 5, 6, 7, 8, 9]\n",
      "아래로 2 이동\n",
      "삭제처리!\n",
      "위로 3 이동\n",
      "삭제처리!\n",
      "아래로 4 이동\n",
      "삭제처리!\n",
      "위로 2 이동\n",
      "복구처리!\n",
      "복구처리!\n",
      "위로 1 이동\n",
      "삭제처리!\n",
      "[5, 3]\n"
     ]
    },
    {
     "data": {
      "text/plain": [
       "'OOXOXOOO'"
      ]
     },
     "execution_count": 47,
     "metadata": {},
     "output_type": "execute_result"
    }
   ],
   "source": [
    "solution(8, 2, [\"D 2\",\"C\",\"U 3\",\"C\",\"D 4\",\"C\",\"U 2\",\"Z\",\"Z\",\"U 1\",\"C\"])"
   ]
  },
  {
   "cell_type": "markdown",
   "id": "2caefc95",
   "metadata": {},
   "source": [
    "- print() 는 테스트 케이스까지는 진행에 문제 없음\n",
    "- 효율성 테스트에서 통과 못함\n",
    "- 실제 제출후 체점하기 시에는 print()문 주석처리하고 제출할 것"
   ]
  }
 ],
 "metadata": {
  "kernelspec": {
   "display_name": "3.11.9",
   "language": "python",
   "name": "python3"
  },
  "language_info": {
   "codemirror_mode": {
    "name": "ipython",
    "version": 3
   },
   "file_extension": ".py",
   "mimetype": "text/x-python",
   "name": "python",
   "nbconvert_exporter": "python",
   "pygments_lexer": "ipython3",
   "version": "3.11.9"
  }
 },
 "nbformat": 4,
 "nbformat_minor": 5
}
