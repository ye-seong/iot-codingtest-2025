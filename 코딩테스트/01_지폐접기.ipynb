{
 "cells": [
  {
   "cell_type": "markdown",
   "id": "a06292d5",
   "metadata": {},
   "source": [
    "<img src=\"../image/지폐접기.png\">"
   ]
  },
  {
   "cell_type": "code",
   "execution_count": null,
   "id": "ac1ec7e7",
   "metadata": {
    "vscode": {
     "languageId": "plaintext"
    }
   },
   "outputs": [],
   "source": []
  }
 ],
 "metadata": {
  "language_info": {
   "name": "python"
  }
 },
 "nbformat": 4,
 "nbformat_minor": 5
}
