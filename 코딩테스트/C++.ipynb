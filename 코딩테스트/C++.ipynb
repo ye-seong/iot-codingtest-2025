{
 "cells": [
  {
   "cell_type": "markdown",
   "id": "49b3b6bd",
   "metadata": {},
   "source": [
    "### [PCCE 기출문제] 9번 / 지폐 접기\n"
   ]
  },
  {
   "cell_type": "code",
   "execution_count": null,
   "id": "df08f8ed",
   "metadata": {
    "vscode": {
     "languageId": "plaintext"
    }
   },
   "outputs": [],
   "source": [
    "#include <string>\n",
    "#include <vector>\n",
    "#include <algorithm>\n",
    "using namespace std;\n",
    "\n",
    "int solution(vector<int> wallet, vector<int> bill) {\n",
    "    int answer = 0;\n",
    "    \n",
    "    while (true) {\n",
    "        // wallet과 bill의 최소값, 최대값 구하기\n",
    "        int wallet_min = min(wallet[0], wallet[1]);\n",
    "        int wallet_max = max(wallet[0], wallet[1]);\n",
    "        int bill_min = min(bill[0], bill[1]);\n",
    "        int bill_max = max(bill[0], bill[1]);\n",
    "        \n",
    "        // 지갑에 들어갈 수 있는지 확인\n",
    "        if (bill_min <= wallet_min && bill_max <= wallet_max) {\n",
    "            break;\n",
    "        }\n",
    "        \n",
    "        // 긴 쪽을 반으로 접기\n",
    "        if (bill[0] >= bill[1]) {\n",
    "            bill[0] = bill[0] / 2;  // 정수 나눗셈으로 소수점 버림\n",
    "        } else {\n",
    "            bill[1] = bill[1] / 2;  // 정수 나눗셈으로 소수점 버림\n",
    "        }\n",
    "        \n",
    "        answer++;\n",
    "    }\n",
    "    \n",
    "    return answer;\n",
    "}"
   ]
  },
  {
   "cell_type": "markdown",
   "id": "ac566483",
   "metadata": {},
   "source": []
  }
 ],
 "metadata": {
  "language_info": {
   "name": "python"
  }
 },
 "nbformat": 4,
 "nbformat_minor": 5
}
